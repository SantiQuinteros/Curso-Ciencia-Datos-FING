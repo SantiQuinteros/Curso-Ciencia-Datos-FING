{
 "cells": [
  {
   "cell_type": "code",
   "execution_count": 88,
   "metadata": {},
   "outputs": [],
   "source": [
    "import pandas as pd\n",
    "import sqlalchemy as sql\n",
    "import pymysql as pym\n",
    "import seaborn as sns\n",
    "import matplotlib.pyplot as plt\n",
    "import matplotlib.dates as mdates\n",
    "from PIL import Image"
   ]
  },
  {
   "cell_type": "code",
   "execution_count": 42,
   "metadata": {},
   "outputs": [],
   "source": [
    "df = pd.read_csv('C:\\\\Users\\\\santi\\\\Desktop\\\\Curso ICD\\\\us_2020_election_speeches.csv')"
   ]
  },
  {
   "cell_type": "markdown",
   "metadata": {},
   "source": [
    "Parte 1: Cargado y Limpieza de Datos"
   ]
  },
  {
   "cell_type": "markdown",
   "metadata": {},
   "source": [
    "A. Compruebe que puede correr las primeras dos celdas del notebook, observe el \n",
    "contenido de los dataframes cargados.  Reporte si existen datos faltantes en algún \n",
    "campo, o cualquier otro problema de calidad de datos que encuentre. En particular, \n",
    "analice la cantidad de discursos por candidato/a, y a partir de este punto trabaje con \n",
    "los cinco candidatos/as con mayor cantidad de discursos. "
   ]
  },
  {
   "cell_type": "code",
   "execution_count": 43,
   "metadata": {},
   "outputs": [
    {
     "data": {
      "text/html": [
       "<div>\n",
       "<style scoped>\n",
       "    .dataframe tbody tr th:only-of-type {\n",
       "        vertical-align: middle;\n",
       "    }\n",
       "\n",
       "    .dataframe tbody tr th {\n",
       "        vertical-align: top;\n",
       "    }\n",
       "\n",
       "    .dataframe thead th {\n",
       "        text-align: right;\n",
       "    }\n",
       "</style>\n",
       "<table border=\"1\" class=\"dataframe\">\n",
       "  <thead>\n",
       "    <tr style=\"text-align: right;\">\n",
       "      <th></th>\n",
       "      <th>speaker</th>\n",
       "      <th>title</th>\n",
       "      <th>text</th>\n",
       "      <th>date</th>\n",
       "      <th>location</th>\n",
       "      <th>type</th>\n",
       "    </tr>\n",
       "  </thead>\n",
       "  <tbody>\n",
       "    <tr>\n",
       "      <th>0</th>\n",
       "      <td>David Perdue</td>\n",
       "      <td>Georgia Sen. David Perdue Speech Transcript at...</td>\n",
       "      <td>David Perdue: (00:01)\\nHow great is it to be b...</td>\n",
       "      <td>Oct 16, 2020</td>\n",
       "      <td>Macon, Georgia</td>\n",
       "      <td>Campaign Speech</td>\n",
       "    </tr>\n",
       "    <tr>\n",
       "      <th>1</th>\n",
       "      <td>Joe Biden</td>\n",
       "      <td>Joe Biden Southfield, MI Speech on Health Care...</td>\n",
       "      <td>Joe Biden: (00:00)\\nHello, Michigan. Hi, how a...</td>\n",
       "      <td>Oct 16, 2020</td>\n",
       "      <td>Southfield ,Michigan</td>\n",
       "      <td>Campaign Speech</td>\n",
       "    </tr>\n",
       "    <tr>\n",
       "      <th>2</th>\n",
       "      <td>Donald Trump</td>\n",
       "      <td>Donald Trump Speech Transcript ‘Protecting Ame...</td>\n",
       "      <td>President Trump: (00:30)\\nThank you. What a ni...</td>\n",
       "      <td>Oct 16, 2020</td>\n",
       "      <td>Fort Myers, Florida</td>\n",
       "      <td>Campaign Speech</td>\n",
       "    </tr>\n",
       "    <tr>\n",
       "      <th>3</th>\n",
       "      <td>Joe Biden</td>\n",
       "      <td>Joe Biden ABC Town Hall Transcript October 15</td>\n",
       "      <td>George Stephanopoulos: (00:41)\\nHey, and welco...</td>\n",
       "      <td>Oct 15, 2020</td>\n",
       "      <td>ABC</td>\n",
       "      <td>Town Hall</td>\n",
       "    </tr>\n",
       "    <tr>\n",
       "      <th>4</th>\n",
       "      <td>Donald Trump</td>\n",
       "      <td>Donald Trump NBC Town Hall Transcript October 15</td>\n",
       "      <td>Savannah Guthrie: (03:50)\\nIt’s nothing but no...</td>\n",
       "      <td>Oct 15, 2020</td>\n",
       "      <td>NBC</td>\n",
       "      <td>Town Hall</td>\n",
       "    </tr>\n",
       "  </tbody>\n",
       "</table>\n",
       "</div>"
      ],
      "text/plain": [
       "        speaker                                              title  \\\n",
       "0  David Perdue  Georgia Sen. David Perdue Speech Transcript at...   \n",
       "1     Joe Biden  Joe Biden Southfield, MI Speech on Health Care...   \n",
       "2  Donald Trump  Donald Trump Speech Transcript ‘Protecting Ame...   \n",
       "3     Joe Biden      Joe Biden ABC Town Hall Transcript October 15   \n",
       "4  Donald Trump   Donald Trump NBC Town Hall Transcript October 15   \n",
       "\n",
       "                                                text          date  \\\n",
       "0  David Perdue: (00:01)\\nHow great is it to be b...  Oct 16, 2020   \n",
       "1  Joe Biden: (00:00)\\nHello, Michigan. Hi, how a...  Oct 16, 2020   \n",
       "2  President Trump: (00:30)\\nThank you. What a ni...  Oct 16, 2020   \n",
       "3  George Stephanopoulos: (00:41)\\nHey, and welco...  Oct 15, 2020   \n",
       "4  Savannah Guthrie: (03:50)\\nIt’s nothing but no...  Oct 15, 2020   \n",
       "\n",
       "               location             type  \n",
       "0        Macon, Georgia  Campaign Speech  \n",
       "1  Southfield ,Michigan  Campaign Speech  \n",
       "2   Fort Myers, Florida  Campaign Speech  \n",
       "3                   ABC        Town Hall  \n",
       "4                   NBC        Town Hall  "
      ]
     },
     "execution_count": 43,
     "metadata": {},
     "output_type": "execute_result"
    }
   ],
   "source": [
    "df.head()"
   ]
  },
  {
   "cell_type": "code",
   "execution_count": 44,
   "metadata": {},
   "outputs": [
    {
     "data": {
      "text/plain": [
       "speaker      3\n",
       "title        0\n",
       "text         0\n",
       "date         0\n",
       "location    18\n",
       "type        21\n",
       "dtype: int64"
      ]
     },
     "execution_count": 44,
     "metadata": {},
     "output_type": "execute_result"
    }
   ],
   "source": [
    "df.isnull().sum()\n"
   ]
  },
  {
   "cell_type": "markdown",
   "metadata": {},
   "source": [
    "3 speaker null\n",
    "\n",
    "18 Location null\n",
    "\n",
    "21 Type Null"
   ]
  },
  {
   "cell_type": "code",
   "execution_count": 45,
   "metadata": {},
   "outputs": [
    {
     "data": {
      "text/html": [
       "<div>\n",
       "<style scoped>\n",
       "    .dataframe tbody tr th:only-of-type {\n",
       "        vertical-align: middle;\n",
       "    }\n",
       "\n",
       "    .dataframe tbody tr th {\n",
       "        vertical-align: top;\n",
       "    }\n",
       "\n",
       "    .dataframe thead th {\n",
       "        text-align: right;\n",
       "    }\n",
       "</style>\n",
       "<table border=\"1\" class=\"dataframe\">\n",
       "  <thead>\n",
       "    <tr style=\"text-align: right;\">\n",
       "      <th></th>\n",
       "      <th>speaker</th>\n",
       "      <th>title</th>\n",
       "      <th>text</th>\n",
       "      <th>date</th>\n",
       "      <th>location</th>\n",
       "      <th>type</th>\n",
       "    </tr>\n",
       "  </thead>\n",
       "  <tbody>\n",
       "    <tr>\n",
       "      <th>95</th>\n",
       "      <td>Donald Trump</td>\n",
       "      <td>Donald Trump Denies Reports on John McCain, U....</td>\n",
       "      <td>Donald Trump: (00:39)\\nThank you very much. We...</td>\n",
       "      <td>Sep 3, 2020</td>\n",
       "      <td>NaN</td>\n",
       "      <td>NaN</td>\n",
       "    </tr>\n",
       "    <tr>\n",
       "      <th>99</th>\n",
       "      <td>Donald Trump</td>\n",
       "      <td>Donald Trump Says Vote Twice in NC Transcript ...</td>\n",
       "      <td>Donald Trump: (00:00)\\nThey had some interesti...</td>\n",
       "      <td>Sep 2, 2020</td>\n",
       "      <td>NaN</td>\n",
       "      <td>NaN</td>\n",
       "    </tr>\n",
       "    <tr>\n",
       "      <th>103</th>\n",
       "      <td>Joe Biden,Kamala Harris</td>\n",
       "      <td>Joe Biden &amp; Kamala Harris ‘A Socially Distance...</td>\n",
       "      <td>Kamala Harris: (00:30)\\nMy career has been abo...</td>\n",
       "      <td>Sep 1, 2020</td>\n",
       "      <td>NaN</td>\n",
       "      <td>Interview</td>\n",
       "    </tr>\n",
       "    <tr>\n",
       "      <th>151</th>\n",
       "      <td>NaN</td>\n",
       "      <td>Democratic National Convention (DNC) 2020 Nigh...</td>\n",
       "      <td>Speaker 1: (00:00)\\n(Silence).\\nSpeaker 1: (21...</td>\n",
       "      <td>Aug 19, 2020</td>\n",
       "      <td>NaN</td>\n",
       "      <td>NaN</td>\n",
       "    </tr>\n",
       "    <tr>\n",
       "      <th>156</th>\n",
       "      <td>NaN</td>\n",
       "      <td>Democratic National Convention (DNC) 2020 Nigh...</td>\n",
       "      <td>Speaker 1: (00:53)\\nJoe Biden picking up not o...</td>\n",
       "      <td>Aug 18, 2020</td>\n",
       "      <td>NaN</td>\n",
       "      <td>NaN</td>\n",
       "    </tr>\n",
       "  </tbody>\n",
       "</table>\n",
       "</div>"
      ],
      "text/plain": [
       "                     speaker  \\\n",
       "95              Donald Trump   \n",
       "99              Donald Trump   \n",
       "103  Joe Biden,Kamala Harris   \n",
       "151                      NaN   \n",
       "156                      NaN   \n",
       "\n",
       "                                                 title  \\\n",
       "95   Donald Trump Denies Reports on John McCain, U....   \n",
       "99   Donald Trump Says Vote Twice in NC Transcript ...   \n",
       "103  Joe Biden & Kamala Harris ‘A Socially Distance...   \n",
       "151  Democratic National Convention (DNC) 2020 Nigh...   \n",
       "156  Democratic National Convention (DNC) 2020 Nigh...   \n",
       "\n",
       "                                                  text          date location  \\\n",
       "95   Donald Trump: (00:39)\\nThank you very much. We...   Sep 3, 2020      NaN   \n",
       "99   Donald Trump: (00:00)\\nThey had some interesti...   Sep 2, 2020      NaN   \n",
       "103  Kamala Harris: (00:30)\\nMy career has been abo...   Sep 1, 2020      NaN   \n",
       "151  Speaker 1: (00:00)\\n(Silence).\\nSpeaker 1: (21...  Aug 19, 2020      NaN   \n",
       "156  Speaker 1: (00:53)\\nJoe Biden picking up not o...  Aug 18, 2020      NaN   \n",
       "\n",
       "          type  \n",
       "95         NaN  \n",
       "99         NaN  \n",
       "103  Interview  \n",
       "151        NaN  \n",
       "156        NaN  "
      ]
     },
     "execution_count": 45,
     "metadata": {},
     "output_type": "execute_result"
    }
   ],
   "source": [
    "df[df.isnull().any(axis=1)].head()"
   ]
  },
  {
   "cell_type": "code",
   "execution_count": 48,
   "metadata": {},
   "outputs": [
    {
     "data": {
      "text/plain": [
       "array(['David Perdue', 'Joe Biden', 'Donald Trump', 'Mike Pence',\n",
       "       'Lindsey Graham, Jaime Harrison', 'Joe Biden,Kamala Harris',\n",
       "       'Kamala Harris, Mike Pence', 'Michelle Obama', 'Bernie Sanders',\n",
       "       'Barack Obama', 'Kamala Harris', 'Donald Trump, Joe Biden',\n",
       "       'Jill Biden', 'Cindy McCain', 'Pete Buttigieg',\n",
       "       'Multiple Speakers', 'Ivanka Trump', 'Tom Cotton', 'Rudy Giuliani',\n",
       "       'Ben Carson', 'Mitch McConnell', 'Chen Guangcheng', 'Lara Trump',\n",
       "       'Lou Holtz', 'Karen Pence', 'Jack Brewer', 'Kellyanne Conway',\n",
       "       'Kayleigh McEnany', 'Dan Crenshaw', 'Pam Bondi', 'Melania Trump',\n",
       "       'Mike Pompeo', 'Eric Trump', 'Nicholas Sandmann', 'Tiffany Trump',\n",
       "       'Rand Paul', 'Tim Scott', 'Kimberly Guilfoyle', 'Herschel Walker',\n",
       "       'Donald Trump Jr.', 'Nikki Haley', 'Jim Jordan',\n",
       "       'Michael Bloomberg', 'Sarah Cooper', 'Cory Booker', 'Gavin Newsom',\n",
       "       'Andrew Yang', nan, 'Elizabeth Warren', 'Hillary Clinton',\n",
       "       'Nancy Pelosi', 'Colin Powell', 'Alexandria Ocasio-Cortez',\n",
       "       'Bill Clinton', 'Chuck Schumer', 'John Kasich', 'Andrew Cuomo',\n",
       "       'Gretchen Whitmer', 'Joe Biden, Barack Obama', 'Kanye West', '???',\n",
       "       'Amy Klobuchar', 'Joe Biden,Tom Wolf', 'Val Demings',\n",
       "       'Joe Biden, Hillary Clinton', 'Joe Biden, Al Gore',\n",
       "       'Tulsi Gabbard', 'Joe Biden, Bernie Sanders', 'Mike Bloomberg',\n",
       "       'Democratic Candidates', 'Donna Brazile',\n",
       "       'Pete Buttigieg,Amy Klobuchar, O’Rourke'], dtype=object)"
      ]
     },
     "execution_count": 48,
     "metadata": {},
     "output_type": "execute_result"
    }
   ],
   "source": [
    "df['speaker'].unique()"
   ]
  },
  {
   "cell_type": "markdown",
   "metadata": {},
   "source": [
    "Hay valores en speaker '???', lo que se considera como null\n",
    "\n",
    "Hay valores en speaker que no tienen una sola persona, sino que son una lista de 2 o 3 personas"
   ]
  },
  {
   "cell_type": "markdown",
   "metadata": {},
   "source": [
    "Rellenar Nulos y ??? con \"Desconocido\""
   ]
  },
  {
   "cell_type": "code",
   "execution_count": 50,
   "metadata": {},
   "outputs": [],
   "source": [
    "df.fillna('Desconocido', inplace=True)\n",
    "df.replace(\"???\", 'Desconocido', inplace=True)"
   ]
  },
  {
   "cell_type": "markdown",
   "metadata": {},
   "source": [
    "Crear una fila por speaker, para los que tienen más de una persona almacenada"
   ]
  },
  {
   "cell_type": "code",
   "execution_count": 51,
   "metadata": {},
   "outputs": [],
   "source": [
    "df_exp = df.assign(speaker=df['speaker'].str.split(',')).explode('speaker').reset_index(drop=True)"
   ]
  },
  {
   "cell_type": "code",
   "execution_count": 52,
   "metadata": {},
   "outputs": [
    {
     "data": {
      "text/plain": [
       "array(['David Perdue', 'Joe Biden', 'Donald Trump', 'Mike Pence',\n",
       "       'Lindsey Graham', ' Jaime Harrison', 'Kamala Harris',\n",
       "       ' Mike Pence', 'Michelle Obama', 'Bernie Sanders', 'Barack Obama',\n",
       "       ' Joe Biden', 'Jill Biden', 'Cindy McCain', 'Pete Buttigieg',\n",
       "       'Multiple Speakers', 'Ivanka Trump', 'Tom Cotton', 'Rudy Giuliani',\n",
       "       'Ben Carson', 'Mitch McConnell', 'Chen Guangcheng', 'Lara Trump',\n",
       "       'Lou Holtz', 'Karen Pence', 'Jack Brewer', 'Kellyanne Conway',\n",
       "       'Kayleigh McEnany', 'Dan Crenshaw', 'Pam Bondi', 'Melania Trump',\n",
       "       'Mike Pompeo', 'Eric Trump', 'Nicholas Sandmann', 'Tiffany Trump',\n",
       "       'Rand Paul', 'Tim Scott', 'Kimberly Guilfoyle', 'Herschel Walker',\n",
       "       'Donald Trump Jr.', 'Nikki Haley', 'Jim Jordan',\n",
       "       'Michael Bloomberg', 'Sarah Cooper', 'Cory Booker', 'Gavin Newsom',\n",
       "       'Andrew Yang', 'Desconocido', 'Elizabeth Warren',\n",
       "       'Hillary Clinton', 'Nancy Pelosi', 'Colin Powell',\n",
       "       'Alexandria Ocasio-Cortez', 'Bill Clinton', 'Chuck Schumer',\n",
       "       'John Kasich', 'Andrew Cuomo', 'Gretchen Whitmer', ' Barack Obama',\n",
       "       'Kanye West', 'Amy Klobuchar', 'Tom Wolf', 'Val Demings',\n",
       "       ' Hillary Clinton', ' Al Gore', 'Tulsi Gabbard', ' Bernie Sanders',\n",
       "       'Mike Bloomberg', 'Democratic Candidates', 'Donna Brazile',\n",
       "       ' O’Rourke'], dtype=object)"
      ]
     },
     "execution_count": 52,
     "metadata": {},
     "output_type": "execute_result"
    }
   ],
   "source": [
    "df_exp['speaker'].unique()"
   ]
  },
  {
   "cell_type": "markdown",
   "metadata": {},
   "source": [
    "5 speakers con más discursos"
   ]
  },
  {
   "cell_type": "code",
   "execution_count": 54,
   "metadata": {},
   "outputs": [
    {
     "data": {
      "text/plain": [
       "speaker\n",
       "Joe Biden         71\n",
       "Donald Trump      53\n",
       "Mike Pence        19\n",
       "Bernie Sanders    16\n",
       "Kamala Harris     11\n",
       "Name: count, dtype: int64"
      ]
     },
     "execution_count": 54,
     "metadata": {},
     "output_type": "execute_result"
    }
   ],
   "source": [
    "top_speakers = df['speaker'].value_counts().head(5)\n",
    "top_speakers"
   ]
  },
  {
   "cell_type": "code",
   "execution_count": 55,
   "metadata": {},
   "outputs": [],
   "source": [
    "df_2 = df[df['speaker'].isin(['Joe Biden', 'Donald Trump', 'Mike Pence', 'Bernie Sanders', 'Kamala Harris'])]"
   ]
  },
  {
   "cell_type": "code",
   "execution_count": 57,
   "metadata": {},
   "outputs": [
    {
     "data": {
      "text/html": [
       "<div>\n",
       "<style scoped>\n",
       "    .dataframe tbody tr th:only-of-type {\n",
       "        vertical-align: middle;\n",
       "    }\n",
       "\n",
       "    .dataframe tbody tr th {\n",
       "        vertical-align: top;\n",
       "    }\n",
       "\n",
       "    .dataframe thead th {\n",
       "        text-align: right;\n",
       "    }\n",
       "</style>\n",
       "<table border=\"1\" class=\"dataframe\">\n",
       "  <thead>\n",
       "    <tr style=\"text-align: right;\">\n",
       "      <th></th>\n",
       "      <th>speaker</th>\n",
       "      <th>title</th>\n",
       "      <th>text</th>\n",
       "      <th>date</th>\n",
       "      <th>location</th>\n",
       "      <th>type</th>\n",
       "    </tr>\n",
       "  </thead>\n",
       "  <tbody>\n",
       "    <tr>\n",
       "      <th>1</th>\n",
       "      <td>Joe Biden</td>\n",
       "      <td>Joe Biden Southfield, MI Speech on Health Care...</td>\n",
       "      <td>Joe Biden: (00:00)\\nHello, Michigan. Hi, how a...</td>\n",
       "      <td>Oct 16, 2020</td>\n",
       "      <td>Southfield ,Michigan</td>\n",
       "      <td>Campaign Speech</td>\n",
       "    </tr>\n",
       "    <tr>\n",
       "      <th>2</th>\n",
       "      <td>Donald Trump</td>\n",
       "      <td>Donald Trump Speech Transcript ‘Protecting Ame...</td>\n",
       "      <td>President Trump: (00:30)\\nThank you. What a ni...</td>\n",
       "      <td>Oct 16, 2020</td>\n",
       "      <td>Fort Myers, Florida</td>\n",
       "      <td>Campaign Speech</td>\n",
       "    </tr>\n",
       "    <tr>\n",
       "      <th>3</th>\n",
       "      <td>Joe Biden</td>\n",
       "      <td>Joe Biden ABC Town Hall Transcript October 15</td>\n",
       "      <td>George Stephanopoulos: (00:41)\\nHey, and welco...</td>\n",
       "      <td>Oct 15, 2020</td>\n",
       "      <td>ABC</td>\n",
       "      <td>Town Hall</td>\n",
       "    </tr>\n",
       "    <tr>\n",
       "      <th>4</th>\n",
       "      <td>Donald Trump</td>\n",
       "      <td>Donald Trump NBC Town Hall Transcript October 15</td>\n",
       "      <td>Savannah Guthrie: (03:50)\\nIt’s nothing but no...</td>\n",
       "      <td>Oct 15, 2020</td>\n",
       "      <td>NBC</td>\n",
       "      <td>Town Hall</td>\n",
       "    </tr>\n",
       "    <tr>\n",
       "      <th>5</th>\n",
       "      <td>Donald Trump</td>\n",
       "      <td>Donald Trump Campaign Rally Greenville, NC Tra...</td>\n",
       "      <td>Donald Trump: (01:25)\\nThank you very much. Th...</td>\n",
       "      <td>Oct 15, 2020</td>\n",
       "      <td>Greenville, North Carolina</td>\n",
       "      <td>Campaign Speech</td>\n",
       "    </tr>\n",
       "  </tbody>\n",
       "</table>\n",
       "</div>"
      ],
      "text/plain": [
       "        speaker                                              title  \\\n",
       "1     Joe Biden  Joe Biden Southfield, MI Speech on Health Care...   \n",
       "2  Donald Trump  Donald Trump Speech Transcript ‘Protecting Ame...   \n",
       "3     Joe Biden      Joe Biden ABC Town Hall Transcript October 15   \n",
       "4  Donald Trump   Donald Trump NBC Town Hall Transcript October 15   \n",
       "5  Donald Trump  Donald Trump Campaign Rally Greenville, NC Tra...   \n",
       "\n",
       "                                                text          date  \\\n",
       "1  Joe Biden: (00:00)\\nHello, Michigan. Hi, how a...  Oct 16, 2020   \n",
       "2  President Trump: (00:30)\\nThank you. What a ni...  Oct 16, 2020   \n",
       "3  George Stephanopoulos: (00:41)\\nHey, and welco...  Oct 15, 2020   \n",
       "4  Savannah Guthrie: (03:50)\\nIt’s nothing but no...  Oct 15, 2020   \n",
       "5  Donald Trump: (01:25)\\nThank you very much. Th...  Oct 15, 2020   \n",
       "\n",
       "                      location             type  \n",
       "1         Southfield ,Michigan  Campaign Speech  \n",
       "2          Fort Myers, Florida  Campaign Speech  \n",
       "3                          ABC        Town Hall  \n",
       "4                          NBC        Town Hall  \n",
       "5  Greenville, North Carolina   Campaign Speech  "
      ]
     },
     "execution_count": 57,
     "metadata": {},
     "output_type": "execute_result"
    }
   ],
   "source": [
    "df_2.head()"
   ]
  },
  {
   "cell_type": "markdown",
   "metadata": {},
   "source": [
    "B. Genere una gráfica que permita visualizar los discursos de los candidatos/as a lo \n",
    "largo del tiempo, con alguna escala temporal adecuada. Comentar si se identifican \n",
    "momentos clave de la campaña. No realizar análisis estadísticos, solamente generar \n",
    "visualizaciones exploratorias. "
   ]
  },
  {
   "cell_type": "code",
   "execution_count": 59,
   "metadata": {},
   "outputs": [
    {
     "name": "stderr",
     "output_type": "stream",
     "text": [
      "C:\\Users\\santi\\AppData\\Local\\Temp\\ipykernel_25548\\3042841020.py:1: SettingWithCopyWarning: \n",
      "A value is trying to be set on a copy of a slice from a DataFrame.\n",
      "Try using .loc[row_indexer,col_indexer] = value instead\n",
      "\n",
      "See the caveats in the documentation: https://pandas.pydata.org/pandas-docs/stable/user_guide/indexing.html#returning-a-view-versus-a-copy\n",
      "  df_2['date'] = pd.to_datetime(df_2['date'])\n"
     ]
    }
   ],
   "source": [
    "df_2['date'] = pd.to_datetime(df_2['date'])"
   ]
  },
  {
   "cell_type": "code",
   "execution_count": 60,
   "metadata": {},
   "outputs": [
    {
     "name": "stdout",
     "output_type": "stream",
     "text": [
      "<class 'pandas.core.frame.DataFrame'>\n",
      "Index: 170 entries, 1 to 267\n",
      "Data columns (total 6 columns):\n",
      " #   Column    Non-Null Count  Dtype         \n",
      "---  ------    --------------  -----         \n",
      " 0   speaker   170 non-null    object        \n",
      " 1   title     170 non-null    object        \n",
      " 2   text      170 non-null    object        \n",
      " 3   date      170 non-null    datetime64[ns]\n",
      " 4   location  170 non-null    object        \n",
      " 5   type      170 non-null    object        \n",
      "dtypes: datetime64[ns](1), object(5)\n",
      "memory usage: 9.3+ KB\n"
     ]
    }
   ],
   "source": [
    "df_2.info()"
   ]
  },
  {
   "cell_type": "code",
   "execution_count": 90,
   "metadata": {},
   "outputs": [],
   "source": [
    "df_Fecha = df_2.groupby('date').size().reset_index(name='cantidad_discursos')"
   ]
  },
  {
   "cell_type": "code",
   "execution_count": 100,
   "metadata": {},
   "outputs": [
    {
     "data": {
      "text/plain": [
       "date                  2020-01-28 00:00:00\n",
       "cantidad_discursos                      1\n",
       "dtype: object"
      ]
     },
     "execution_count": 100,
     "metadata": {},
     "output_type": "execute_result"
    }
   ],
   "source": [
    "df_Fecha.min()"
   ]
  },
  {
   "cell_type": "code",
   "execution_count": 101,
   "metadata": {},
   "outputs": [
    {
     "data": {
      "text/plain": [
       "date                  2020-10-16 00:00:00\n",
       "cantidad_discursos                      5\n",
       "dtype: object"
      ]
     },
     "execution_count": 101,
     "metadata": {},
     "output_type": "execute_result"
    }
   ],
   "source": [
    "df_Fecha.max()"
   ]
  },
  {
   "cell_type": "markdown",
   "metadata": {},
   "source": [
    "Grafica de serie de tiempo con la cantidad de discursos por fecha"
   ]
  },
  {
   "cell_type": "code",
   "execution_count": 97,
   "metadata": {},
   "outputs": [
    {
     "data": {
      "image/png": "[encoded data removed]",
      "text/plain": [
       "<Figure size 1100x400 with 1 Axes>"
      ]
     },
     "metadata": {},
     "output_type": "display_data"
    }
   ],
   "source": [
    "plt.figure(figsize=(11, 4))\n",
    "sns.lineplot(data=df_Fecha, x='date', y='cantidad_discursos')\n",
    "plt.title('Cantidad de discursos por día (apertura diaria)')\n",
    "plt.xlabel('Fecha')\n",
    "plt.ylabel('Cantidad de discursos')\n",
    "\n",
    "plt.gca().xaxis.set_major_locator(mdates.WeekdayLocator(interval=1))\n",
    "plt.gca().xaxis.set_major_formatter(mdates.DateFormatter('%b %d'))\n",
    "plt.xticks(rotation=45)\n",
    "\n",
    "plt.tight_layout()\n",
    "plt.show()"
   ]
  },
  {
   "cell_type": "markdown",
   "metadata": {},
   "source": [
    "C. Una de las funciones básicas que se desea realizar, es el conteo de palabras: cuántas \n",
    "veces aparece cada palabra agrupando por distintos criterios. Para ello, primero es \n",
    "necesario normalizar el texto (i.e: pasarlo todo a minúsculas) y eliminar los signos de \n",
    "puntuación. De no hacerlo, las secuencias \"You\", \"you.\" y “you,” se contarían como \n",
    "palabras distintas. La función clean_text(...) realiza parte de esta tarea, pero se debe \n",
    "completar agregando algunos signos de puntuación y cualquier otra normalización \n",
    "que considere oportuna. Comprobar el resultado observando el contenido de \n",
    "df_speeches_top_5, algunas celdas más abajo. Comente todas las transformaciones \n",
    "de texto que haya agregado y justifique."
   ]
  },
  {
   "cell_type": "code",
   "execution_count": null,
   "metadata": {},
   "outputs": [],
   "source": []
  }
 ],
 "metadata": {
  "kernelspec": {
   "display_name": "base",
   "language": "python",
   "name": "python3"
  },
  "language_info": {
   "codemirror_mode": {
    "name": "ipython",
    "version": 3
   },
   "file_extension": ".py",
   "mimetype": "text/x-python",
   "name": "python",
   "nbconvert_exporter": "python",
   "pygments_lexer": "ipython3",
   "version": "3.12.7"
  }
 },
 "nbformat": 4,
 "nbformat_minor": 2
}
